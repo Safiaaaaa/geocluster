{
 "cells": [
  {
   "cell_type": "code",
   "execution_count": 6,
   "id": "23feceb7",
   "metadata": {},
   "outputs": [],
   "source": [
    "import pandas as pd\n",
    "import numpy as np\n",
    "import geopandas as gpd"
   ]
  },
  {
   "cell_type": "code",
   "execution_count": 2,
   "id": "ac139b8e",
   "metadata": {},
   "outputs": [],
   "source": [
    "df = pd.read_csv('data/frontend_df.csv')"
   ]
  },
  {
   "cell_type": "code",
   "execution_count": 4,
   "id": "18b48419",
   "metadata": {},
   "outputs": [],
   "source": [
    "df.dropna(inplace=True)"
   ]
  },
  {
   "cell_type": "code",
   "execution_count": 5,
   "id": "38fbca82",
   "metadata": {},
   "outputs": [],
   "source": [
    "df.to_csv('data/df_dropna.csv')"
   ]
  },
  {
   "cell_type": "code",
   "execution_count": 7,
   "id": "039582d2",
   "metadata": {},
   "outputs": [],
   "source": [
    "gdf = gpd.read_file('/Users/Safia/code/Safiaaaaa/YouthInTheCity/YouthInTheCity/data/geodata_readytouse.geojson')"
   ]
  },
  {
   "cell_type": "code",
   "execution_count": 11,
   "id": "fd760662",
   "metadata": {},
   "outputs": [],
   "source": [
    "gdf[['PLR_ID', 'geometry']].to_file(\"berlin_plr.geojson\", driver='GeoJSON')"
   ]
  },
  {
   "cell_type": "code",
   "execution_count": 14,
   "id": "4db262ea",
   "metadata": {},
   "outputs": [
    {
     "data": {
      "text/html": [
       "<div>\n",
       "<style scoped>\n",
       "    .dataframe tbody tr th:only-of-type {\n",
       "        vertical-align: middle;\n",
       "    }\n",
       "\n",
       "    .dataframe tbody tr th {\n",
       "        vertical-align: top;\n",
       "    }\n",
       "\n",
       "    .dataframe thead th {\n",
       "        text-align: right;\n",
       "    }\n",
       "</style>\n",
       "<table border=\"1\" class=\"dataframe\">\n",
       "  <thead>\n",
       "    <tr style=\"text-align: right;\">\n",
       "      <th></th>\n",
       "      <th>PLR_ID</th>\n",
       "      <th>geometry</th>\n",
       "    </tr>\n",
       "  </thead>\n",
       "  <tbody>\n",
       "    <tr>\n",
       "      <th>0</th>\n",
       "      <td>11501341</td>\n",
       "      <td>POLYGON ((13.52523 52.48153, 13.52532 52.48150...</td>\n",
       "    </tr>\n",
       "    <tr>\n",
       "      <th>1</th>\n",
       "      <td>03701659</td>\n",
       "      <td>POLYGON ((13.42522 52.52983, 13.42511 52.52974...</td>\n",
       "    </tr>\n",
       "    <tr>\n",
       "      <th>2</th>\n",
       "      <td>07601340</td>\n",
       "      <td>POLYGON ((13.35924 52.40896, 13.35902 52.40902...</td>\n",
       "    </tr>\n",
       "    <tr>\n",
       "      <th>3</th>\n",
       "      <td>02500831</td>\n",
       "      <td>POLYGON ((13.46757 52.51424, 13.46773 52.51422...</td>\n",
       "    </tr>\n",
       "    <tr>\n",
       "      <th>4</th>\n",
       "      <td>12601134</td>\n",
       "      <td>POLYGON ((13.33710 52.59592, 13.33633 52.59636...</td>\n",
       "    </tr>\n",
       "    <tr>\n",
       "      <th>...</th>\n",
       "      <td>...</td>\n",
       "      <td>...</td>\n",
       "    </tr>\n",
       "    <tr>\n",
       "      <th>537</th>\n",
       "      <td>12500927</td>\n",
       "      <td>POLYGON ((13.33582 52.59585, 13.33562 52.59584...</td>\n",
       "    </tr>\n",
       "    <tr>\n",
       "      <th>538</th>\n",
       "      <td>03200204</td>\n",
       "      <td>POLYGON ((13.41367 52.60933, 13.41368 52.60924...</td>\n",
       "    </tr>\n",
       "    <tr>\n",
       "      <th>539</th>\n",
       "      <td>10400941</td>\n",
       "      <td>POLYGON ((13.61674 52.48229, 13.61669 52.48225...</td>\n",
       "    </tr>\n",
       "    <tr>\n",
       "      <th>540</th>\n",
       "      <td>08100101</td>\n",
       "      <td>POLYGON ((13.40772 52.48875, 13.40789 52.48886...</td>\n",
       "    </tr>\n",
       "    <tr>\n",
       "      <th>541</th>\n",
       "      <td>11300616</td>\n",
       "      <td>POLYGON ((13.46134 52.53008, 13.46158 52.53037...</td>\n",
       "    </tr>\n",
       "  </tbody>\n",
       "</table>\n",
       "<p>542 rows × 2 columns</p>\n",
       "</div>"
      ],
      "text/plain": [
       "       PLR_ID                                           geometry\n",
       "0    11501341  POLYGON ((13.52523 52.48153, 13.52532 52.48150...\n",
       "1    03701659  POLYGON ((13.42522 52.52983, 13.42511 52.52974...\n",
       "2    07601340  POLYGON ((13.35924 52.40896, 13.35902 52.40902...\n",
       "3    02500831  POLYGON ((13.46757 52.51424, 13.46773 52.51422...\n",
       "4    12601134  POLYGON ((13.33710 52.59592, 13.33633 52.59636...\n",
       "..        ...                                                ...\n",
       "537  12500927  POLYGON ((13.33582 52.59585, 13.33562 52.59584...\n",
       "538  03200204  POLYGON ((13.41367 52.60933, 13.41368 52.60924...\n",
       "539  10400941  POLYGON ((13.61674 52.48229, 13.61669 52.48225...\n",
       "540  08100101  POLYGON ((13.40772 52.48875, 13.40789 52.48886...\n",
       "541  11300616  POLYGON ((13.46134 52.53008, 13.46158 52.53037...\n",
       "\n",
       "[542 rows x 2 columns]"
      ]
     },
     "execution_count": 14,
     "metadata": {},
     "output_type": "execute_result"
    }
   ],
   "source": [
    " gpd.read_file('data/berlin_plr.geojson')"
   ]
  },
  {
   "cell_type": "code",
   "execution_count": 12,
   "id": "65fa4a6a",
   "metadata": {},
   "outputs": [
    {
     "data": {
      "text/html": [
       "<div>\n",
       "<style scoped>\n",
       "    .dataframe tbody tr th:only-of-type {\n",
       "        vertical-align: middle;\n",
       "    }\n",
       "\n",
       "    .dataframe tbody tr th {\n",
       "        vertical-align: top;\n",
       "    }\n",
       "\n",
       "    .dataframe thead th {\n",
       "        text-align: right;\n",
       "    }\n",
       "</style>\n",
       "<table border=\"1\" class=\"dataframe\">\n",
       "  <thead>\n",
       "    <tr style=\"text-align: right;\">\n",
       "      <th></th>\n",
       "      <th>PLR_ID</th>\n",
       "      <th>geometry</th>\n",
       "    </tr>\n",
       "  </thead>\n",
       "  <tbody>\n",
       "    <tr>\n",
       "      <th>0</th>\n",
       "      <td>11501341</td>\n",
       "      <td>POLYGON ((13.52523 52.48153, 13.52532 52.48150...</td>\n",
       "    </tr>\n",
       "    <tr>\n",
       "      <th>1</th>\n",
       "      <td>03701659</td>\n",
       "      <td>POLYGON ((13.42522 52.52983, 13.42511 52.52974...</td>\n",
       "    </tr>\n",
       "    <tr>\n",
       "      <th>2</th>\n",
       "      <td>07601340</td>\n",
       "      <td>POLYGON ((13.35924 52.40896, 13.35902 52.40902...</td>\n",
       "    </tr>\n",
       "    <tr>\n",
       "      <th>3</th>\n",
       "      <td>02500831</td>\n",
       "      <td>POLYGON ((13.46757 52.51424, 13.46773 52.51422...</td>\n",
       "    </tr>\n",
       "    <tr>\n",
       "      <th>4</th>\n",
       "      <td>12601134</td>\n",
       "      <td>POLYGON ((13.33710 52.59592, 13.33633 52.59636...</td>\n",
       "    </tr>\n",
       "    <tr>\n",
       "      <th>...</th>\n",
       "      <td>...</td>\n",
       "      <td>...</td>\n",
       "    </tr>\n",
       "    <tr>\n",
       "      <th>537</th>\n",
       "      <td>12500927</td>\n",
       "      <td>POLYGON ((13.33582 52.59585, 13.33562 52.59584...</td>\n",
       "    </tr>\n",
       "    <tr>\n",
       "      <th>538</th>\n",
       "      <td>03200204</td>\n",
       "      <td>POLYGON ((13.41367 52.60933, 13.41368 52.60924...</td>\n",
       "    </tr>\n",
       "    <tr>\n",
       "      <th>539</th>\n",
       "      <td>10400941</td>\n",
       "      <td>POLYGON ((13.61674 52.48229, 13.61669 52.48225...</td>\n",
       "    </tr>\n",
       "    <tr>\n",
       "      <th>540</th>\n",
       "      <td>08100101</td>\n",
       "      <td>POLYGON ((13.40772 52.48875, 13.40789 52.48886...</td>\n",
       "    </tr>\n",
       "    <tr>\n",
       "      <th>541</th>\n",
       "      <td>11300616</td>\n",
       "      <td>POLYGON ((13.46134 52.53008, 13.46158 52.53037...</td>\n",
       "    </tr>\n",
       "  </tbody>\n",
       "</table>\n",
       "<p>542 rows × 2 columns</p>\n",
       "</div>"
      ],
      "text/plain": [
       "       PLR_ID                                           geometry\n",
       "0    11501341  POLYGON ((13.52523 52.48153, 13.52532 52.48150...\n",
       "1    03701659  POLYGON ((13.42522 52.52983, 13.42511 52.52974...\n",
       "2    07601340  POLYGON ((13.35924 52.40896, 13.35902 52.40902...\n",
       "3    02500831  POLYGON ((13.46757 52.51424, 13.46773 52.51422...\n",
       "4    12601134  POLYGON ((13.33710 52.59592, 13.33633 52.59636...\n",
       "..        ...                                                ...\n",
       "537  12500927  POLYGON ((13.33582 52.59585, 13.33562 52.59584...\n",
       "538  03200204  POLYGON ((13.41367 52.60933, 13.41368 52.60924...\n",
       "539  10400941  POLYGON ((13.61674 52.48229, 13.61669 52.48225...\n",
       "540  08100101  POLYGON ((13.40772 52.48875, 13.40789 52.48886...\n",
       "541  11300616  POLYGON ((13.46134 52.53008, 13.46158 52.53037...\n",
       "\n",
       "[542 rows x 2 columns]"
      ]
     },
     "execution_count": 12,
     "metadata": {},
     "output_type": "execute_result"
    }
   ],
   "source": [
    "gdf[['PLR_ID', 'geometry']]"
   ]
  },
  {
   "cell_type": "markdown",
   "id": "977c85f3",
   "metadata": {},
   "source": [
    "# TO DOS\n",
    "\n",
    "1. continuer chloropeth\n",
    "2. relier api"
   ]
  },
  {
   "cell_type": "code",
   "execution_count": null,
   "id": "8818d72e",
   "metadata": {},
   "outputs": [],
   "source": []
  }
 ],
 "metadata": {
  "kernelspec": {
   "display_name": "Python 3.10.6 64-bit ('shims')",
   "language": "python",
   "name": "python3"
  },
  "language_info": {
   "codemirror_mode": {
    "name": "ipython",
    "version": 3
   },
   "file_extension": ".py",
   "mimetype": "text/x-python",
   "name": "python",
   "nbconvert_exporter": "python",
   "pygments_lexer": "ipython3",
   "version": "3.10.6"
  },
  "toc": {
   "base_numbering": 1,
   "nav_menu": {},
   "number_sections": true,
   "sideBar": true,
   "skip_h1_title": false,
   "title_cell": "Table of Contents",
   "title_sidebar": "Contents",
   "toc_cell": false,
   "toc_position": {},
   "toc_section_display": true,
   "toc_window_display": false
  },
  "vscode": {
   "interpreter": {
    "hash": "94bd30f949e70f6bd7147edafcc9d6e90e37ab28bdc30ad682bff6c5ba6cd324"
   }
  }
 },
 "nbformat": 4,
 "nbformat_minor": 5
}
